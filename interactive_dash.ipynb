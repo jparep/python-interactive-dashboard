{
 "cells": [
  {
   "cell_type": "markdown",
   "metadata": {},
   "source": [
    "### Load and Explore Data\n",
    "\n",
    "Titanic dataaset dashboard visualization"
   ]
  },
  {
   "cell_type": "code",
   "execution_count": 2,
   "metadata": {},
   "outputs": [],
   "source": [
    "# Import libraries\n",
    "import pandas as pd\n",
    "\n",
    "# Load data\n",
    "train_df = pd.read_csv('data/raw/train.csv')\n",
    "test_df = pd.read_csv('data/raw/test.csv')\n",
    "gender_df = pd.read_csv('data/raw/gender_submission.csv')"
   ]
  },
  {
   "cell_type": "code",
   "execution_count": 3,
   "metadata": {},
   "outputs": [
    {
     "name": "stdout",
     "output_type": "stream",
     "text": [
      "(891, 12)\n",
      "(418, 11)\n",
      "(418, 2)\n"
     ]
    }
   ],
   "source": [
    "print(train_df.shape)\n",
    "print(test_df.shape)\n",
    "print(gender_df.shape)"
   ]
  },
  {
   "cell_type": "code",
   "execution_count": 4,
   "metadata": {},
   "outputs": [
    {
     "name": "stdout",
     "output_type": "stream",
     "text": [
      "<class 'pandas.core.frame.DataFrame'>\n",
      "RangeIndex: 891 entries, 0 to 890\n",
      "Data columns (total 12 columns):\n",
      " #   Column       Non-Null Count  Dtype  \n",
      "---  ------       --------------  -----  \n",
      " 0   PassengerId  891 non-null    int64  \n",
      " 1   Survived     891 non-null    int64  \n",
      " 2   Pclass       891 non-null    int64  \n",
      " 3   Name         891 non-null    object \n",
      " 4   Sex          891 non-null    object \n",
      " 5   Age          714 non-null    float64\n",
      " 6   SibSp        891 non-null    int64  \n",
      " 7   Parch        891 non-null    int64  \n",
      " 8   Ticket       891 non-null    object \n",
      " 9   Fare         891 non-null    float64\n",
      " 10  Cabin        204 non-null    object \n",
      " 11  Embarked     889 non-null    object \n",
      "dtypes: float64(2), int64(5), object(5)\n",
      "memory usage: 83.7+ KB\n"
     ]
    }
   ],
   "source": [
    "train_df.info()"
   ]
  },
  {
   "cell_type": "code",
   "execution_count": 5,
   "metadata": {},
   "outputs": [
    {
     "data": {
      "text/plain": [
       "PassengerId      0\n",
       "Survived         0\n",
       "Pclass           0\n",
       "Name             0\n",
       "Sex              0\n",
       "Age            177\n",
       "SibSp            0\n",
       "Parch            0\n",
       "Ticket           0\n",
       "Fare             0\n",
       "Cabin          687\n",
       "Embarked         2\n",
       "dtype: int64"
      ]
     },
     "execution_count": 5,
     "metadata": {},
     "output_type": "execute_result"
    }
   ],
   "source": [
    "train_df.isnull().sum()"
   ]
  },
  {
   "cell_type": "code",
   "execution_count": 6,
   "metadata": {},
   "outputs": [
    {
     "name": "stderr",
     "output_type": "stream",
     "text": [
      "/tmp/ipykernel_3770/1550220062.py:2: FutureWarning: A value is trying to be set on a copy of a DataFrame or Series through chained assignment using an inplace method.\n",
      "The behavior will change in pandas 3.0. This inplace method will never work because the intermediate object on which we are setting values always behaves as a copy.\n",
      "\n",
      "For example, when doing 'df[col].method(value, inplace=True)', try using 'df.method({col: value}, inplace=True)' or df[col] = df[col].method(value) instead, to perform the operation inplace on the original object.\n",
      "\n",
      "\n",
      "  train_df['Age'].fillna(train_df['Age'].mean(), inplace=True)\n",
      "/tmp/ipykernel_3770/1550220062.py:6: FutureWarning: A value is trying to be set on a copy of a DataFrame or Series through chained assignment using an inplace method.\n",
      "The behavior will change in pandas 3.0. This inplace method will never work because the intermediate object on which we are setting values always behaves as a copy.\n",
      "\n",
      "For example, when doing 'df[col].method(value, inplace=True)', try using 'df.method({col: value}, inplace=True)' or df[col] = df[col].method(value) instead, to perform the operation inplace on the original object.\n",
      "\n",
      "\n",
      "  train_df['Embarked'].fillna(train_df['Embarked'].mode()[0], inplace=True)\n"
     ]
    },
    {
     "data": {
      "text/plain": [
       "PassengerId    0\n",
       "Survived       0\n",
       "Pclass         0\n",
       "Name           0\n",
       "Sex            0\n",
       "Age            0\n",
       "SibSp          0\n",
       "Parch          0\n",
       "Ticket         0\n",
       "Fare           0\n",
       "Embarked       0\n",
       "dtype: int64"
      ]
     },
     "execution_count": 6,
     "metadata": {},
     "output_type": "execute_result"
    }
   ],
   "source": [
    "# Fill missing values of age with the mean\n",
    "train_df['Age'].fillna(train_df['Age'].mean(), inplace=True)\n",
    "# Drop cain column (too many missing values)\n",
    "train_df.drop('Cabin', axis=1, inplace=True)\n",
    "# Fill missing values of Embarked with the mode\n",
    "train_df['Embarked'].fillna(train_df['Embarked'].mode()[0], inplace=True)\n",
    "train_df.isnull().sum()"
   ]
  },
  {
   "cell_type": "code",
   "execution_count": 7,
   "metadata": {},
   "outputs": [
    {
     "data": {
      "text/plain": [
       "PassengerId      0\n",
       "Pclass           0\n",
       "Name             0\n",
       "Sex              0\n",
       "Age             86\n",
       "SibSp            0\n",
       "Parch            0\n",
       "Ticket           0\n",
       "Fare             1\n",
       "Cabin          327\n",
       "Embarked         0\n",
       "dtype: int64"
      ]
     },
     "execution_count": 7,
     "metadata": {},
     "output_type": "execute_result"
    }
   ],
   "source": [
    "test_df.isnull().sum()"
   ]
  },
  {
   "cell_type": "code",
   "execution_count": 8,
   "metadata": {},
   "outputs": [
    {
     "name": "stderr",
     "output_type": "stream",
     "text": [
      "/tmp/ipykernel_3770/3870649260.py:2: FutureWarning: A value is trying to be set on a copy of a DataFrame or Series through chained assignment using an inplace method.\n",
      "The behavior will change in pandas 3.0. This inplace method will never work because the intermediate object on which we are setting values always behaves as a copy.\n",
      "\n",
      "For example, when doing 'df[col].method(value, inplace=True)', try using 'df.method({col: value}, inplace=True)' or df[col] = df[col].method(value) instead, to perform the operation inplace on the original object.\n",
      "\n",
      "\n",
      "  test_df['Age'].fillna(test_df['Age'].mean(), inplace=True)\n",
      "/tmp/ipykernel_3770/3870649260.py:6: FutureWarning: A value is trying to be set on a copy of a DataFrame or Series through chained assignment using an inplace method.\n",
      "The behavior will change in pandas 3.0. This inplace method will never work because the intermediate object on which we are setting values always behaves as a copy.\n",
      "\n",
      "For example, when doing 'df[col].method(value, inplace=True)', try using 'df.method({col: value}, inplace=True)' or df[col] = df[col].method(value) instead, to perform the operation inplace on the original object.\n",
      "\n",
      "\n",
      "  test_df['Fare'].fillna(test_df['Fare'].mean(), inplace=True)\n"
     ]
    },
    {
     "data": {
      "text/plain": [
       "PassengerId    0\n",
       "Pclass         0\n",
       "Name           0\n",
       "Sex            0\n",
       "Age            0\n",
       "SibSp          0\n",
       "Parch          0\n",
       "Ticket         0\n",
       "Fare           0\n",
       "Embarked       0\n",
       "dtype: int64"
      ]
     },
     "execution_count": 8,
     "metadata": {},
     "output_type": "execute_result"
    }
   ],
   "source": [
    "# Fill missing values of age with the mean\n",
    "test_df['Age'].fillna(test_df['Age'].mean(), inplace=True)\n",
    "# Drop cain column (too many missing values)\n",
    "test_df.drop('Cabin', axis =1, inplace=True)\n",
    "# Fill missing values of Fare with the mean\n",
    "test_df['Fare'].fillna(test_df['Fare'].mean(), inplace=True)\n",
    "test_df.isnull().sum()"
   ]
  },
  {
   "cell_type": "code",
   "execution_count": null,
   "metadata": {},
   "outputs": [
    {
     "ename": "NameError",
     "evalue": "name 'gender_df' is not defined",
     "output_type": "error",
     "traceback": [
      "\u001b[0;31m---------------------------------------------------------------------------\u001b[0m",
      "\u001b[0;31mNameError\u001b[0m                                 Traceback (most recent call last)",
      "Cell \u001b[0;32mIn[1], line 1\u001b[0m\n\u001b[0;32m----> 1\u001b[0m \u001b[43mgender_df\u001b[49m\u001b[38;5;241m.\u001b[39misnull()\u001b[38;5;241m.\u001b[39msum()\n",
      "\u001b[0;31mNameError\u001b[0m: name 'gender_df' is not defined"
     ]
    }
   ],
   "source": [
    "gender_df.isnull().sum()\n",
    "gender_df.head()"
   ]
  },
  {
   "cell_type": "code",
   "execution_count": null,
   "metadata": {},
   "outputs": [],
   "source": [
    "gender_df.describe()\n",
    "gender_df.describe(include='all')"
   ]
  },
  {
   "cell_type": "code",
   "execution_count": 10,
   "metadata": {},
   "outputs": [],
   "source": [
    "from dash import Dash, dcc, html, Input, Output\n",
    "import plotly.express as px"
   ]
  },
  {
   "cell_type": "code",
   "execution_count": 11,
   "metadata": {},
   "outputs": [],
   "source": [
    "# Initalize Dash app\n",
    "app  = Dash(__name__)"
   ]
  },
  {
   "cell_type": "code",
   "execution_count": 12,
   "metadata": {},
   "outputs": [],
   "source": [
    "# Layout for the dashboard\n",
    "app.layout = html.Div([\n",
    "    html.H1('Titanic dashboard', style={'textaAlign': 'center'}),\n",
    "    dcc.Dropdown(\n",
    "        id='dataset-dropdown',\n",
    "        options=[\n",
    "            {'label': 'Train Dataset', 'value': 'train'},\n",
    "            {'label': 'Test Dataset', 'value': 'test'}\n",
    "        ],\n",
    "        value='train',\n",
    "        placeholder='Select Datadset'\n",
    "    ),\n",
    "    dcc.Graph(id='age-distribution'),\n",
    "    dcc.Graph(id='fare-distribution')\n",
    "])"
   ]
  },
  {
   "cell_type": "code",
   "execution_count": 13,
   "metadata": {},
   "outputs": [],
   "source": [
    "# Callbacks\n",
    "@app.callback(\n",
    "    Output('age-distribution', 'figure'),\n",
    "    Input('dataset-dropdown', 'value')\n",
    ")\n",
    "def update_age_distribution(selected_dataset):\n",
    "    data = train_df if selected_dataset == 'train' else test_df\n",
    "    fig = px.histogram(data, x='Age', title='Age Distribution')\n",
    "    return fig"
   ]
  },
  {
   "cell_type": "code",
   "execution_count": 14,
   "metadata": {},
   "outputs": [],
   "source": [
    "# Callbacks\n",
    "@app.callback(\n",
    "    Output('fare-distribution', 'figure'),\n",
    "    Input('dataset-dropdown', 'value')\n",
    ")\n",
    "def update_fare_distributions(selected_dataset):\n",
    "    data = train_df if selected_dataset == 'train' else test_df\n",
    "    fig = px.histogram(data, x='Fare', title='Fare Distribution')\n",
    "    return fig"
   ]
  },
  {
   "cell_type": "code",
   "execution_count": 15,
   "metadata": {},
   "outputs": [
    {
     "data": {
      "text/html": [
       "\n",
       "        <iframe\n",
       "            width=\"100%\"\n",
       "            height=\"650\"\n",
       "            src=\"http://127.0.0.1:8050/\"\n",
       "            frameborder=\"0\"\n",
       "            allowfullscreen\n",
       "            \n",
       "        ></iframe>\n",
       "        "
      ],
      "text/plain": [
       "<IPython.lib.display.IFrame at 0x7f88cce9d250>"
      ]
     },
     "metadata": {},
     "output_type": "display_data"
    },
    {
     "name": "stderr",
     "output_type": "stream",
     "text": [
      "[2025-01-12 18:45:06,679] ERROR in app: Exception on /_dash-update-component [POST]\n",
      "Traceback (most recent call last):\n",
      "  File \"/home/jparep/miniconda3/envs/dash-env/lib/python3.11/site-packages/flask/app.py\", line 1511, in wsgi_app\n",
      "    response = self.full_dispatch_request()\n",
      "               ^^^^^^^^^^^^^^^^^^^^^^^^^^^^\n",
      "  File \"/home/jparep/miniconda3/envs/dash-env/lib/python3.11/site-packages/flask/app.py\", line 919, in full_dispatch_request\n",
      "    rv = self.handle_user_exception(e)\n",
      "         ^^^^^^^^^^^^^^^^^^^^^^^^^^^^^\n",
      "  File \"/home/jparep/miniconda3/envs/dash-env/lib/python3.11/site-packages/flask/app.py\", line 917, in full_dispatch_request\n",
      "    rv = self.dispatch_request()\n",
      "         ^^^^^^^^^^^^^^^^^^^^^^^\n",
      "  File \"/home/jparep/miniconda3/envs/dash-env/lib/python3.11/site-packages/flask/app.py\", line 902, in dispatch_request\n",
      "    return self.ensure_sync(self.view_functions[rule.endpoint])(**view_args)  # type: ignore[no-any-return]\n",
      "           ^^^^^^^^^^^^^^^^^^^^^^^^^^^^^^^^^^^^^^^^^^^^^^^^^^^^^^^^^^^^^^^^^\n",
      "  File \"/home/jparep/miniconda3/envs/dash-env/lib/python3.11/site-packages/dash/dash.py\", line 1376, in dispatch\n",
      "    ctx.run(\n",
      "  File \"/home/jparep/miniconda3/envs/dash-env/lib/python3.11/site-packages/dash/_callback.py\", line 507, in add_context\n",
      "    raise err\n",
      "  File \"/home/jparep/miniconda3/envs/dash-env/lib/python3.11/site-packages/dash/_callback.py\", line 496, in add_context\n",
      "    output_value = _invoke_callback(func, *func_args, **func_kwargs)\n",
      "                   ^^^^^^^^^^^^^^^^^^^^^^^^^^^^^^^^^^^^^^^^^^^^^^^^^\n",
      "  File \"/home/jparep/miniconda3/envs/dash-env/lib/python3.11/site-packages/dash/_callback.py\", line 43, in _invoke_callback\n",
      "    return func(*args, **kwargs)  # %% callback invoked %%\n",
      "           ^^^^^^^^^^^^^^^^^^^^^\n",
      "  File \"/tmp/ipykernel_3770/2689113100.py\", line 8, in update_age_distribution\n",
      "    fig = px.histogram(data, x='Age', title='Age Distribution')\n",
      "          ^^^^^^^^^^^^^^^^^^^^^^^^^^^^^^^^^^^^^^^^^^^^^^^^^^^^^\n",
      "  File \"/home/jparep/miniconda3/envs/dash-env/lib/python3.11/site-packages/plotly/express/_chart_types.py\", line 480, in histogram\n",
      "    return make_figure(\n",
      "           ^^^^^^^^^^^^\n",
      "  File \"/home/jparep/miniconda3/envs/dash-env/lib/python3.11/site-packages/plotly/express/_core.py\", line 2115, in make_figure\n",
      "    apply_default_cascade(args)\n",
      "  File \"/home/jparep/miniconda3/envs/dash-env/lib/python3.11/site-packages/plotly/express/_core.py\", line 993, in apply_default_cascade\n",
      "    args[\"pattern_shape_sequence\"] = [\n",
      "                                     ^\n",
      "  File \"/home/jparep/miniconda3/envs/dash-env/lib/python3.11/site-packages/plotly/express/_core.py\", line 994, in <listcomp>\n",
      "    bar.marker.pattern.shape for bar in args[\"template\"].data.bar\n",
      "    ^^^^^^^^^^^^^^^^^^^^^^^^\n",
      "  File \"/home/jparep/miniconda3/envs/dash-env/lib/python3.11/site-packages/plotly/graph_objs/bar/marker/_pattern.py\", line 252, in shape\n",
      "    return self[\"shape\"]\n",
      "           ~~~~^^^^^^^^^\n",
      "  File \"/home/jparep/miniconda3/envs/dash-env/lib/python3.11/site-packages/plotly/basedatatypes.py\", line 4742, in __getitem__\n",
      "    elif self._props is not None and prop in self._props:\n",
      "         ^^^^^^^^^^^\n",
      "  File \"/home/jparep/miniconda3/envs/dash-env/lib/python3.11/site-packages/plotly/basedatatypes.py\", line 4437, in _props\n",
      "    return self.parent._get_child_props(self)\n",
      "           ^^^^^^^^^^^^^^^^^^^^^^^^^^^^^^^^^^\n",
      "  File \"/home/jparep/miniconda3/envs/dash-env/lib/python3.11/site-packages/plotly/basedatatypes.py\", line 4451, in _get_child_props\n",
      "    if self._props is None:\n",
      "       ^^^^^^^^^^^\n",
      "  File \"/home/jparep/miniconda3/envs/dash-env/lib/python3.11/site-packages/plotly/basedatatypes.py\", line 4437, in _props\n",
      "    return self.parent._get_child_props(self)\n",
      "           ^^^^^^^^^^^^^^^^^^^^^^^^^^^^^^^^^^\n",
      "  File \"/home/jparep/miniconda3/envs/dash-env/lib/python3.11/site-packages/plotly/basedatatypes.py\", line 4451, in _get_child_props\n",
      "    if self._props is None:\n",
      "       ^^^^^^^^^^^\n",
      "  File \"/home/jparep/miniconda3/envs/dash-env/lib/python3.11/site-packages/plotly/basedatatypes.py\", line 4437, in _props\n",
      "    return self.parent._get_child_props(self)\n",
      "           ^^^^^^^^^^^^^^^^^^^^^^^^^^^^^^^^^^\n",
      "  File \"/home/jparep/miniconda3/envs/dash-env/lib/python3.11/site-packages/plotly/basedatatypes.py\", line 4471, in _get_child_props\n",
      "    child_ind = BaseFigure._index_is(children, child)\n",
      "                ^^^^^^^^^^^^^^^^^^^^^^^^^^^^^^^^^^^^^\n",
      "  File \"/home/jparep/miniconda3/envs/dash-env/lib/python3.11/site-packages/plotly/basedatatypes.py\", line 3965, in _index_is\n",
      "    raise ValueError(\"Invalid value\")\n",
      "ValueError: Invalid value\n"
     ]
    }
   ],
   "source": [
    "# Run the app\n",
    "if __name__ == '__main__':\n",
    "    app.run_server(debug=False)"
   ]
  }
 ],
 "metadata": {
  "kernelspec": {
   "display_name": "dash-env",
   "language": "python",
   "name": "python3"
  },
  "language_info": {
   "codemirror_mode": {
    "name": "ipython",
    "version": 3
   },
   "file_extension": ".py",
   "mimetype": "text/x-python",
   "name": "python",
   "nbconvert_exporter": "python",
   "pygments_lexer": "ipython3",
   "version": "3.11.11"
  }
 },
 "nbformat": 4,
 "nbformat_minor": 2
}
